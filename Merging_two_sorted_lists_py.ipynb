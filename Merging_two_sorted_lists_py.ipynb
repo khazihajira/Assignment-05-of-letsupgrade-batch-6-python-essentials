{
  "nbformat": 4,
  "nbformat_minor": 0,
  "metadata": {
    "colab": {
      "name": "Merging two sorted lists. py",
      "provenance": [],
      "authorship_tag": "ABX9TyN9AD87bewx1tkB83R63KLr",
      "include_colab_link": true
    },
    "kernelspec": {
      "name": "python3",
      "display_name": "Python 3"
    }
  },
  "cells": [
    {
      "cell_type": "markdown",
      "metadata": {
        "id": "view-in-github",
        "colab_type": "text"
      },
      "source": [
        "<a href=\"https://colab.research.google.com/github/khazihajira/Assignment-05-of-letsupgrade-batch-6-python-essentials/blob/master/Merging_two_sorted_lists_py.ipynb\" target=\"_parent\"><img src=\"https://colab.research.google.com/assets/colab-badge.svg\" alt=\"Open In Colab\"/></a>"
      ]
    },
    {
      "cell_type": "code",
      "metadata": {
        "id": "--X4XvrTKekP",
        "colab_type": "code",
        "colab": {
          "base_uri": "https://localhost:8080/",
          "height": 105
        },
        "outputId": "82c8c5e6-c428-4751-9779-d4a5c9b71fef"
      },
      "source": [
        " \n",
        "print (\"Merging two sorted lists\")\n",
        "list1 = [10,20, 40, 60, 70,80] \n",
        " \n",
        "list2 = [5, 15, 25, 35, 45,60] \n",
        " \n",
        "  \n",
        "# printing original lists  \n",
        " \n",
        "print (\"The list 1 is : \" + str(list1)) \n",
        " \n",
        "print (\"The list 2 is : \" + str(list2)) \n",
        " \n",
        "  \n",
        "# using naive method  \n",
        "# to combine two sorted lists \n",
        " \n",
        "size_1 = len(list1) \n",
        " \n",
        "size_2 = len(list2) \n",
        " \n",
        "  \n",
        " \n",
        "res = [] \n",
        " \n",
        "i, j = 0, 0\n",
        " \n",
        "  \n",
        " \n",
        "while i < size_1 and j < size_2: \n",
        " \n",
        "    if list1[i] < list2[j]: \n",
        " \n",
        "      res.append(list1[i]) \n",
        " \n",
        "      i += 1\n",
        " \n",
        "  \n",
        " \n",
        "    else: \n",
        " \n",
        "      res.append(list2[j]) \n",
        " \n",
        "      j += 1\n",
        " \n",
        "  \n",
        " \n",
        "res = res + list1[i:] + list2[j:] \n",
        " \n",
        "  \n",
        "# printing result \n",
        " \n",
        "print (\"The combined sorted list is : \" + str(res))"
      ],
      "execution_count": null,
      "outputs": [
        {
          "output_type": "stream",
          "text": [
            "Merging two sorted lists\n",
            "The list 1 is : [10, 20, 40, 60, 70, 80]\n",
            "The list 2 is : [5, 15, 25, 35, 45, 60]\n",
            "The combined sorted list is : [5, 10, 15, 20, 25, 35, 40, 45, 60, 60, 70, 80]\n"
          ],
          "name": "stdout"
        }
      ]
    }
  ]
}