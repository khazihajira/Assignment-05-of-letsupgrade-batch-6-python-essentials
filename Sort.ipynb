{
  "nbformat": 4,
  "nbformat_minor": 0,
  "metadata": {
    "colab": {
      "name": "Sort.ipynb",
      "provenance": [],
      "authorship_tag": "ABX9TyOLU7jtANhSKdmJ9JQdHa+a",
      "include_colab_link": true
    },
    "kernelspec": {
      "name": "python3",
      "display_name": "Python 3"
    }
  },
  "cells": [
    {
      "cell_type": "markdown",
      "metadata": {
        "id": "view-in-github",
        "colab_type": "text"
      },
      "source": [
        "<a href=\"https://colab.research.google.com/github/khazihajira/Assignment-05-of-letsupgrade-batch-6-python-essentials/blob/master/Sort.ipynb\" target=\"_parent\"><img src=\"https://colab.research.google.com/assets/colab-badge.svg\" alt=\"Open In Colab\"/></a>"
      ]
    },
    {
      "cell_type": "markdown",
      "metadata": {
        "id": "QI2EcDVkPALu",
        "colab_type": "text"
      },
      "source": [
        "# Assignment question 01 \n",
        "Sort in increasing order such that all zeros should be at right side"
      ]
    },
    {
      "cell_type": "code",
      "metadata": {
        "id": "46fJSHBROUmN",
        "colab_type": "code",
        "colab": {
          "base_uri": "https://localhost:8080/",
          "height": 105
        },
        "outputId": "aa2599d2-c500-477b-d978-486ade14f0e0"
      },
      "source": [
        " print(\"Sorting in increasing order\\n\")\n",
        " \n",
        "list= [0,1,2,10,4,1,0,56,2,0,1,3,0,56,0,4]\n",
        "list.sort(key=lambda v:v == 0)\n",
        "print(f\"Sorted List : \\n{list}\")"
      ],
      "execution_count": 1,
      "outputs": [
        {
          "output_type": "stream",
          "text": [
            "Sorting in increasing order\n",
            "\n",
            "Sorted List : \n",
            "[1, 2, 10, 4, 1, 56, 2, 1, 3, 56, 4, 0, 0, 0, 0, 0]\n"
          ],
          "name": "stdout"
        }
      ]
    }
  ]
}